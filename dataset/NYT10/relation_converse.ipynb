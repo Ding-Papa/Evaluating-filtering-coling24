{
 "cells": [
  {
   "cell_type": "code",
   "execution_count": 6,
   "metadata": {},
   "outputs": [],
   "source": [
    "import json\n",
    "file_path = './old_train.json'\n",
    "write_path = './new_train.json'"
   ]
  },
  {
   "cell_type": "code",
   "execution_count": 8,
   "metadata": {},
   "outputs": [],
   "source": [
    "# 读取rel_converse.json文件并转换为字典，把old_train.json中存在的字典键的字串替换为对应的字典值\n",
    "with open('./rel_converse.json', 'r', encoding='utf-8') as f:\n",
    "    rel_converse = json.load(f)\n",
    "# type(rel_converse)  # dict\n",
    "with open(file_path, 'r', encoding='utf-8') as f:\n",
    "    old_train = f.readlines()\n",
    "    new_train = []\n",
    "    for line in old_train:\n",
    "        line = line.strip()\n",
    "        for key in rel_converse.keys():\n",
    "            if key in line:\n",
    "                line = line.replace(key, rel_converse[key])\n",
    "        new_train.append(line)\n",
    "\n",
    "with open (write_path, 'w', encoding='utf-8') as f:\n",
    "    for line in new_train:\n",
    "        f.write(line + '\\n')"
   ]
  }
 ],
 "metadata": {
  "kernelspec": {
   "display_name": "dzp_torch",
   "language": "python",
   "name": "python3"
  },
  "language_info": {
   "codemirror_mode": {
    "name": "ipython",
    "version": 3
   },
   "file_extension": ".py",
   "mimetype": "text/x-python",
   "name": "python",
   "nbconvert_exporter": "python",
   "pygments_lexer": "ipython3",
   "version": "3.9.16"
  }
 },
 "nbformat": 4,
 "nbformat_minor": 2
}
