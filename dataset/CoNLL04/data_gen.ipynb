{
 "cells": [
  {
   "cell_type": "code",
   "execution_count": 1,
   "metadata": {},
   "outputs": [],
   "source": [
    "import json\n",
    "from tqdm import tqdm"
   ]
  },
  {
   "cell_type": "code",
   "execution_count": 16,
   "metadata": {},
   "outputs": [],
   "source": [
    "with open('conll04_test.json', 'r') as f:\n",
    "    train_data = json.load(f)"
   ]
  },
  {
   "cell_type": "code",
   "execution_count": 11,
   "metadata": {},
   "outputs": [],
   "source": [
    "rel_map = {\"Work_For\": {\"short\": \"Work\", \"verbose\": \"Work for\"}, \"Kill\": {\"short\": \"Kill\", \"verbose\": \"Kill\"}, \"OrgBased_In\": {\"short\": \"OrgBI\", \"verbose\": \"Organization based in\" }, \"Live_In\": {\"short\": \"Live\", \"verbose\": \"Live in\"}, \"Located_In\": {\"short\": \"LocIn\", \"verbose\": \"Located in\"}}"
   ]
  },
  {
   "cell_type": "code",
   "execution_count": 17,
   "metadata": {},
   "outputs": [
    {
     "name": "stderr",
     "output_type": "stream",
     "text": [
      "100%|██████████| 288/288 [00:00<00:00, 55436.42it/s]\n"
     ]
    }
   ],
   "source": [
    "with open('new_test.json', 'w') as f:\n",
    "    for textid, data in enumerate(tqdm(train_data)):\n",
    "        res = {}\n",
    "        res['sentText'] = ' '.join(data['tokens'])\n",
    "        entities = data['entities']\n",
    "        relations = data['relations']\n",
    "        res['relationMentions'] = []\n",
    "        for relation in relations:\n",
    "            res['relationMentions'].append({\n",
    "                'em1Text': ' '.join(data['tokens'][entities[relation['head']]['start']: entities[relation['head']]['end']]),\n",
    "                'em2Text': ' '.join(data['tokens'][entities[relation['tail']]['start']: entities[relation['tail']]['end']]),\n",
    "                'label': rel_map[relation['type']]['verbose']\n",
    "            })\n",
    "        f.write(json.dumps(res)+'\\n')"
   ]
  },
  {
   "cell_type": "code",
   "execution_count": null,
   "metadata": {},
   "outputs": [],
   "source": []
  }
 ],
 "metadata": {
  "kernelspec": {
   "display_name": "Python 3.7.13 ('harry_torch')",
   "language": "python",
   "name": "python3"
  },
  "language_info": {
   "codemirror_mode": {
    "name": "ipython",
    "version": 3
   },
   "file_extension": ".py",
   "mimetype": "text/x-python",
   "name": "python",
   "nbconvert_exporter": "python",
   "pygments_lexer": "ipython3",
   "version": "3.7.13"
  },
  "orig_nbformat": 4,
  "vscode": {
   "interpreter": {
    "hash": "22f3c13e4593fc7d82b380fe6e88ae0e60361bfe10f478d0fd0447177e41f35d"
   }
  }
 },
 "nbformat": 4,
 "nbformat_minor": 2
}
